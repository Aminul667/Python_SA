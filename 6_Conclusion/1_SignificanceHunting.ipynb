{
 "cells": [
  {
   "cell_type": "markdown",
   "source": [
    "This is an exercise in **what not to do!**\n",
    "\n",
    "# The shocking case of junk food and acne\n",
    "\n",
    "You have been asked to investigate a link between jukn food and acne. \n",
    "\n",
    "You have been given a dataset, `junkfood.csv`, which contains several columns. First, a numeric column representing a self-reported value from 0 to 10 of \"How badly do you present with acne?\", with 0 being not at all and 10 being ever-present and severe. Then there is a column which describes their most significant contribution to junk food (ie do they most often eat chocolate, drink softdrink, or something else), and the third column details an estimate for how many times a month they partake in junk food."
   ],
   "metadata": {}
  },
  {
   "cell_type": "code",
   "execution_count": 1,
   "source": [
    "import pandas as pd\r\n",
    "import matplotlib.pyplot as plt\r\n",
    "\r\n",
    "df = pd.read_csv(\"data\\junkfood.csv\")\r\n",
    "df.head()"
   ],
   "outputs": [
    {
     "output_type": "execute_result",
     "data": {
      "text/html": [
       "<div>\n",
       "<style scoped>\n",
       "    .dataframe tbody tr th:only-of-type {\n",
       "        vertical-align: middle;\n",
       "    }\n",
       "\n",
       "    .dataframe tbody tr th {\n",
       "        vertical-align: top;\n",
       "    }\n",
       "\n",
       "    .dataframe thead th {\n",
       "        text-align: right;\n",
       "    }\n",
       "</style>\n",
       "<table border=\"1\" class=\"dataframe\">\n",
       "  <thead>\n",
       "    <tr style=\"text-align: right;\">\n",
       "      <th></th>\n",
       "      <th>Acne</th>\n",
       "      <th>Food</th>\n",
       "      <th>Frequency</th>\n",
       "    </tr>\n",
       "  </thead>\n",
       "  <tbody>\n",
       "    <tr>\n",
       "      <th>0</th>\n",
       "      <td>5</td>\n",
       "      <td>Burgers</td>\n",
       "      <td>21</td>\n",
       "    </tr>\n",
       "    <tr>\n",
       "      <th>1</th>\n",
       "      <td>6</td>\n",
       "      <td>Chocolate</td>\n",
       "      <td>26</td>\n",
       "    </tr>\n",
       "    <tr>\n",
       "      <th>2</th>\n",
       "      <td>5</td>\n",
       "      <td>Ice cream</td>\n",
       "      <td>17</td>\n",
       "    </tr>\n",
       "    <tr>\n",
       "      <th>3</th>\n",
       "      <td>1</td>\n",
       "      <td>Ice cream</td>\n",
       "      <td>1</td>\n",
       "    </tr>\n",
       "    <tr>\n",
       "      <th>4</th>\n",
       "      <td>0</td>\n",
       "      <td>Cake</td>\n",
       "      <td>2</td>\n",
       "    </tr>\n",
       "  </tbody>\n",
       "</table>\n",
       "</div>"
      ],
      "text/plain": [
       "   Acne       Food  Frequency\n",
       "0     5    Burgers         21\n",
       "1     6  Chocolate         26\n",
       "2     5  Ice cream         17\n",
       "3     1  Ice cream          1\n",
       "4     0       Cake          2"
      ]
     },
     "metadata": {},
     "execution_count": 1
    }
   ],
   "metadata": {}
  },
  {
   "cell_type": "markdown",
   "source": [
    "Let's check for a global link"
   ],
   "metadata": {}
  },
  {
   "cell_type": "code",
   "execution_count": 2,
   "source": [
    "df.corr()"
   ],
   "outputs": [
    {
     "output_type": "execute_result",
     "data": {
      "text/html": [
       "<div>\n",
       "<style scoped>\n",
       "    .dataframe tbody tr th:only-of-type {\n",
       "        vertical-align: middle;\n",
       "    }\n",
       "\n",
       "    .dataframe tbody tr th {\n",
       "        vertical-align: top;\n",
       "    }\n",
       "\n",
       "    .dataframe thead th {\n",
       "        text-align: right;\n",
       "    }\n",
       "</style>\n",
       "<table border=\"1\" class=\"dataframe\">\n",
       "  <thead>\n",
       "    <tr style=\"text-align: right;\">\n",
       "      <th></th>\n",
       "      <th>Acne</th>\n",
       "      <th>Frequency</th>\n",
       "    </tr>\n",
       "  </thead>\n",
       "  <tbody>\n",
       "    <tr>\n",
       "      <th>Acne</th>\n",
       "      <td>1.000000</td>\n",
       "      <td>0.018163</td>\n",
       "    </tr>\n",
       "    <tr>\n",
       "      <th>Frequency</th>\n",
       "      <td>0.018163</td>\n",
       "      <td>1.000000</td>\n",
       "    </tr>\n",
       "  </tbody>\n",
       "</table>\n",
       "</div>"
      ],
      "text/plain": [
       "               Acne  Frequency\n",
       "Acne       1.000000   0.018163\n",
       "Frequency  0.018163   1.000000"
      ]
     },
     "metadata": {},
     "execution_count": 2
    }
   ],
   "metadata": {}
  },
  {
   "cell_type": "markdown",
   "source": [
    "Looks like there is a small positive correlation between frequency of eating junk food and having bad acne. Let's look at a subset to compare extremes"
   ],
   "metadata": {}
  },
  {
   "cell_type": "code",
   "execution_count": 3,
   "source": [
    "print(df.loc[df[\"Acne\"] < 3, \"Frequency\"].mean())\r\n",
    "print(df.loc[df[\"Acne\"] > 7, \"Frequency\"].mean())"
   ],
   "outputs": [
    {
     "output_type": "stream",
     "name": "stdout",
     "text": [
      "14.5357833655706\n",
      "14.878205128205128\n"
     ]
    }
   ],
   "metadata": {}
  },
  {
   "cell_type": "markdown",
   "source": [
    "Only looks like a small relationship.\n",
    "\n",
    "Let's state the null hypothesis a bit better. \n",
    "\n",
    "Null hypothesis: *The frequency of junk food does not cause (correlate) with acne.*\n",
    "\n",
    "To test this we can use Pearson's correlation test in scipy."
   ],
   "metadata": {}
  },
  {
   "cell_type": "code",
   "execution_count": 4,
   "source": [
    "from scipy.stats import pearsonr\r\n",
    "correlation, pvalue = pearsonr(df[\"Acne\"], df[\"Frequency\"])\r\n",
    "print(f\"Correlation is {correlation:.3f}, with p-value of {pvalue:0.4f}\")"
   ],
   "outputs": [
    {
     "output_type": "stream",
     "name": "stdout",
     "text": [
      "Correlation is 0.018, with p-value of 0.5662\n"
     ]
    }
   ],
   "metadata": {}
  },
  {
   "cell_type": "markdown",
   "source": [
    "Not a significant p-value, so we cannot reject the null hypothesis.\n",
    "\n",
    "But wait, what if we ask if any one food is correlated. Let's check each food item."
   ],
   "metadata": {}
  },
  {
   "cell_type": "code",
   "execution_count": 5,
   "source": [
    "foods = df[\"Food\"].unique()\r\n",
    "alpha = 0.05\r\n",
    "for f in foods:\r\n",
    "    df2 = df.loc[df[\"Food\"] == f]\r\n",
    "    correlation, pvalue = pearsonr(df2[\"Acne\"], df2[\"Frequency\"])\r\n",
    "    if pvalue < alpha:\r\n",
    "        print(f\"Significant correlation (pvalue {pvalue:0.4f}) between {f}: {correlation:.3f}!!\")\r\n",
    "    else:\r\n",
    "        print(f\"No significant correlation for {f}\")"
   ],
   "outputs": [
    {
     "output_type": "stream",
     "name": "stdout",
     "text": [
      "No significant correlation for Burgers\n",
      "No significant correlation for Chocolate\n",
      "No significant correlation for Ice cream\n",
      "Significant correlation (pvalue 0.0326) between Cake: 0.229!!\n",
      "No significant correlation for Donuts\n",
      "No significant correlation for Lollies\n",
      "No significant correlation for Pure Sugar\n",
      "No significant correlation for Cheese Pizza\n",
      "No significant correlation for Brownies\n",
      "No significant correlation for Milkshakes\n",
      "No significant correlation for Soft Drink\n"
     ]
    }
   ],
   "metadata": {}
  },
  {
   "cell_type": "markdown",
   "source": [
    "**DAMMIT CAKE!**\n",
    "\n",
    "This is just unimaginable. How will the world take this devastating news?\n",
    "\n",
    "****\n",
    "\n",
    "Right, so this is an example of significance hunting. By drilling down into our data when we initially don't find results and comparing a large number of hypotheses we are bound to eventually call something statistically significant. In this case, the data was generated without any correlation at all, this is just a statistical fluctuation. But in an effort to find results we could publish an article claiming a statistically significant correlation between cake and acne, and then the media would run with it, and its all junk science.\n",
    "\n",
    "*The moral of the story here is that you should pick you value of $\\alpha$ (in our case, 0.05) based on the number of tests to try and minimise false positives.*\n",
    "\n",
    "*Also*, keep in mind for when you next see media about correlation between two things, chocolate and heart disease, wine and longevity, etc, that just because you have the strength in your data to determine correlation with significance doesn't mean that *amount* of correlation is significance. \n",
    "\n",
    "With a large enough data sample, you can detect a correlation of 0.0001 with statistical significance.\n",
    "\n",
    "And to end on a fun note [here is a relevant xkcd which inspired the acne link in this example](https://xkcd.com/882/)."
   ],
   "metadata": {}
  }
 ],
 "metadata": {
  "kernelspec": {
   "name": "python3",
   "display_name": "Python 3.9.5 64-bit"
  },
  "language_info": {
   "codemirror_mode": {
    "name": "ipython",
    "version": 3
   },
   "file_extension": ".py",
   "mimetype": "text/x-python",
   "name": "python",
   "nbconvert_exporter": "python",
   "pygments_lexer": "ipython3",
   "version": "3.9.5"
  },
  "interpreter": {
   "hash": "436102c0a2913d83b92e7e37fb0f79334eec653fbc4039d4aee3ac7ffa36463a"
  }
 },
 "nbformat": 4,
 "nbformat_minor": 2
}